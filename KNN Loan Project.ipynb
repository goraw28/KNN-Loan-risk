{
 "cells": [
  {
   "cell_type": "code",
   "execution_count": 4,
   "id": "d267a932",
   "metadata": {},
   "outputs": [],
   "source": [
    "import pandas as pd\n",
    "import numpy as np\n",
    "from sklearn.model_selection import train_test_split \n",
    "import matplotlib.pyplot as plt\n",
    "%matplotlib inline"
   ]
  },
  {
   "cell_type": "markdown",
   "id": "41b040e7",
   "metadata": {},
   "source": [
    "# Load Dataset"
   ]
  },
  {
   "cell_type": "code",
   "execution_count": 6,
   "id": "7dca02df",
   "metadata": {},
   "outputs": [],
   "source": [
    "df = pd.read_excel(r\"C:\\Users\\Gaurav Ugale\\Desktop\\PROJECTS Python\\Project Tasks\\KNN Classification Loan applicant Risk\\Python_Project_7_KNN.xlsx\")"
   ]
  },
  {
   "cell_type": "code",
   "execution_count": 7,
   "id": "3006b11c",
   "metadata": {},
   "outputs": [
    {
     "data": {
      "text/html": [
       "<div>\n",
       "<style scoped>\n",
       "    .dataframe tbody tr th:only-of-type {\n",
       "        vertical-align: middle;\n",
       "    }\n",
       "\n",
       "    .dataframe tbody tr th {\n",
       "        vertical-align: top;\n",
       "    }\n",
       "\n",
       "    .dataframe thead th {\n",
       "        text-align: right;\n",
       "    }\n",
       "</style>\n",
       "<table border=\"1\" class=\"dataframe\">\n",
       "  <thead>\n",
       "    <tr style=\"text-align: right;\">\n",
       "      <th></th>\n",
       "      <th>Age</th>\n",
       "      <th>Total Work Experience</th>\n",
       "      <th>Number of years in city</th>\n",
       "      <th>Cost to Request Ratio</th>\n",
       "      <th>Cibil score</th>\n",
       "      <th>Overdrafts past12months</th>\n",
       "      <th>Total bounces past12months</th>\n",
       "    </tr>\n",
       "  </thead>\n",
       "  <tbody>\n",
       "    <tr>\n",
       "      <th>0</th>\n",
       "      <td>40.50</td>\n",
       "      <td>2</td>\n",
       "      <td>6</td>\n",
       "      <td>0.842666</td>\n",
       "      <td>594</td>\n",
       "      <td>0</td>\n",
       "      <td>0</td>\n",
       "    </tr>\n",
       "    <tr>\n",
       "      <th>1</th>\n",
       "      <td>41.25</td>\n",
       "      <td>5</td>\n",
       "      <td>2</td>\n",
       "      <td>0.791667</td>\n",
       "      <td>754</td>\n",
       "      <td>0</td>\n",
       "      <td>0</td>\n",
       "    </tr>\n",
       "    <tr>\n",
       "      <th>2</th>\n",
       "      <td>39.50</td>\n",
       "      <td>5</td>\n",
       "      <td>2</td>\n",
       "      <td>0.727273</td>\n",
       "      <td>779</td>\n",
       "      <td>0</td>\n",
       "      <td>0</td>\n",
       "    </tr>\n",
       "    <tr>\n",
       "      <th>3</th>\n",
       "      <td>35.00</td>\n",
       "      <td>1</td>\n",
       "      <td>4</td>\n",
       "      <td>0.820232</td>\n",
       "      <td>818</td>\n",
       "      <td>0</td>\n",
       "      <td>0</td>\n",
       "    </tr>\n",
       "    <tr>\n",
       "      <th>4</th>\n",
       "      <td>34.00</td>\n",
       "      <td>3</td>\n",
       "      <td>3</td>\n",
       "      <td>0.455581</td>\n",
       "      <td>853</td>\n",
       "      <td>0</td>\n",
       "      <td>1</td>\n",
       "    </tr>\n",
       "  </tbody>\n",
       "</table>\n",
       "</div>"
      ],
      "text/plain": [
       "     Age  Total Work Experience  Number of years in city  \\\n",
       "0  40.50                      2                        6   \n",
       "1  41.25                      5                        2   \n",
       "2  39.50                      5                        2   \n",
       "3  35.00                      1                        4   \n",
       "4  34.00                      3                        3   \n",
       "\n",
       "   Cost to Request Ratio  Cibil score  Overdrafts past12months  \\\n",
       "0               0.842666          594                        0   \n",
       "1               0.791667          754                        0   \n",
       "2               0.727273          779                        0   \n",
       "3               0.820232          818                        0   \n",
       "4               0.455581          853                        0   \n",
       "\n",
       "   Total bounces past12months  \n",
       "0                           0  \n",
       "1                           0  \n",
       "2                           0  \n",
       "3                           0  \n",
       "4                           1  "
      ]
     },
     "execution_count": 7,
     "metadata": {},
     "output_type": "execute_result"
    }
   ],
   "source": [
    "df.head()"
   ]
  },
  {
   "cell_type": "markdown",
   "id": "819435b6",
   "metadata": {},
   "source": [
    "# Check Null values"
   ]
  },
  {
   "cell_type": "code",
   "execution_count": 8,
   "id": "16d5ff74",
   "metadata": {},
   "outputs": [
    {
     "data": {
      "text/plain": [
       "Age                           0\n",
       "Total Work Experience         0\n",
       "Number of years in city       0\n",
       "Cost to Request Ratio         0\n",
       "Cibil score                   0\n",
       "Overdrafts past12months       0\n",
       "Total bounces past12months    0\n",
       "dtype: int64"
      ]
     },
     "execution_count": 8,
     "metadata": {},
     "output_type": "execute_result"
    }
   ],
   "source": [
    "df.isnull().sum()"
   ]
  },
  {
   "cell_type": "markdown",
   "id": "01670cad",
   "metadata": {},
   "source": [
    "# Get basic information from data"
   ]
  },
  {
   "cell_type": "code",
   "execution_count": 9,
   "id": "b0d364ce",
   "metadata": {},
   "outputs": [
    {
     "name": "stdout",
     "output_type": "stream",
     "text": [
      "<class 'pandas.core.frame.DataFrame'>\n",
      "RangeIndex: 8995 entries, 0 to 8994\n",
      "Data columns (total 7 columns):\n",
      " #   Column                      Non-Null Count  Dtype  \n",
      "---  ------                      --------------  -----  \n",
      " 0   Age                         8995 non-null   float64\n",
      " 1   Total Work Experience       8995 non-null   int64  \n",
      " 2   Number of years in city     8995 non-null   int64  \n",
      " 3   Cost to Request Ratio       8995 non-null   float64\n",
      " 4   Cibil score                 8995 non-null   int64  \n",
      " 5   Overdrafts past12months     8995 non-null   int64  \n",
      " 6   Total bounces past12months  8995 non-null   int64  \n",
      "dtypes: float64(2), int64(5)\n",
      "memory usage: 492.0 KB\n"
     ]
    }
   ],
   "source": [
    "df.info()"
   ]
  },
  {
   "cell_type": "markdown",
   "id": "a52287a1",
   "metadata": {},
   "source": [
    "# Describe dataset"
   ]
  },
  {
   "cell_type": "code",
   "execution_count": 11,
   "id": "0cb2941e",
   "metadata": {},
   "outputs": [
    {
     "data": {
      "text/html": [
       "<div>\n",
       "<style scoped>\n",
       "    .dataframe tbody tr th:only-of-type {\n",
       "        vertical-align: middle;\n",
       "    }\n",
       "\n",
       "    .dataframe tbody tr th {\n",
       "        vertical-align: top;\n",
       "    }\n",
       "\n",
       "    .dataframe thead th {\n",
       "        text-align: right;\n",
       "    }\n",
       "</style>\n",
       "<table border=\"1\" class=\"dataframe\">\n",
       "  <thead>\n",
       "    <tr style=\"text-align: right;\">\n",
       "      <th></th>\n",
       "      <th>Age</th>\n",
       "      <th>Total Work Experience</th>\n",
       "      <th>Number of years in city</th>\n",
       "      <th>Cost to Request Ratio</th>\n",
       "      <th>Cibil score</th>\n",
       "      <th>Overdrafts past12months</th>\n",
       "      <th>Total bounces past12months</th>\n",
       "    </tr>\n",
       "  </thead>\n",
       "  <tbody>\n",
       "    <tr>\n",
       "      <th>count</th>\n",
       "      <td>8995.000000</td>\n",
       "      <td>8995.000000</td>\n",
       "      <td>8995.000000</td>\n",
       "      <td>8995.000000</td>\n",
       "      <td>8995.000000</td>\n",
       "      <td>8995.000000</td>\n",
       "      <td>8995.000000</td>\n",
       "    </tr>\n",
       "    <tr>\n",
       "      <th>mean</th>\n",
       "      <td>38.808202</td>\n",
       "      <td>2.131073</td>\n",
       "      <td>4.288160</td>\n",
       "      <td>0.831183</td>\n",
       "      <td>752.626570</td>\n",
       "      <td>0.322068</td>\n",
       "      <td>1.162757</td>\n",
       "    </tr>\n",
       "    <tr>\n",
       "      <th>std</th>\n",
       "      <td>10.203371</td>\n",
       "      <td>0.892141</td>\n",
       "      <td>1.269416</td>\n",
       "      <td>0.490216</td>\n",
       "      <td>67.645792</td>\n",
       "      <td>0.914998</td>\n",
       "      <td>2.352798</td>\n",
       "    </tr>\n",
       "    <tr>\n",
       "      <th>min</th>\n",
       "      <td>18.100000</td>\n",
       "      <td>1.000000</td>\n",
       "      <td>1.000000</td>\n",
       "      <td>0.008466</td>\n",
       "      <td>351.000000</td>\n",
       "      <td>0.000000</td>\n",
       "      <td>0.000000</td>\n",
       "    </tr>\n",
       "    <tr>\n",
       "      <th>25%</th>\n",
       "      <td>30.830000</td>\n",
       "      <td>1.000000</td>\n",
       "      <td>3.000000</td>\n",
       "      <td>0.662147</td>\n",
       "      <td>730.000000</td>\n",
       "      <td>0.000000</td>\n",
       "      <td>0.000000</td>\n",
       "    </tr>\n",
       "    <tr>\n",
       "      <th>50%</th>\n",
       "      <td>37.200000</td>\n",
       "      <td>2.000000</td>\n",
       "      <td>4.000000</td>\n",
       "      <td>0.800000</td>\n",
       "      <td>768.000000</td>\n",
       "      <td>0.000000</td>\n",
       "      <td>0.000000</td>\n",
       "    </tr>\n",
       "    <tr>\n",
       "      <th>75%</th>\n",
       "      <td>45.400000</td>\n",
       "      <td>3.000000</td>\n",
       "      <td>5.000000</td>\n",
       "      <td>0.930908</td>\n",
       "      <td>797.000000</td>\n",
       "      <td>0.000000</td>\n",
       "      <td>1.000000</td>\n",
       "    </tr>\n",
       "    <tr>\n",
       "      <th>max</th>\n",
       "      <td>83.800000</td>\n",
       "      <td>5.000000</td>\n",
       "      <td>6.000000</td>\n",
       "      <td>12.006623</td>\n",
       "      <td>882.000000</td>\n",
       "      <td>12.000000</td>\n",
       "      <td>12.000000</td>\n",
       "    </tr>\n",
       "  </tbody>\n",
       "</table>\n",
       "</div>"
      ],
      "text/plain": [
       "               Age  Total Work Experience  Number of years in city  \\\n",
       "count  8995.000000            8995.000000              8995.000000   \n",
       "mean     38.808202               2.131073                 4.288160   \n",
       "std      10.203371               0.892141                 1.269416   \n",
       "min      18.100000               1.000000                 1.000000   \n",
       "25%      30.830000               1.000000                 3.000000   \n",
       "50%      37.200000               2.000000                 4.000000   \n",
       "75%      45.400000               3.000000                 5.000000   \n",
       "max      83.800000               5.000000                 6.000000   \n",
       "\n",
       "       Cost to Request Ratio  Cibil score  Overdrafts past12months  \\\n",
       "count            8995.000000  8995.000000              8995.000000   \n",
       "mean                0.831183   752.626570                 0.322068   \n",
       "std                 0.490216    67.645792                 0.914998   \n",
       "min                 0.008466   351.000000                 0.000000   \n",
       "25%                 0.662147   730.000000                 0.000000   \n",
       "50%                 0.800000   768.000000                 0.000000   \n",
       "75%                 0.930908   797.000000                 0.000000   \n",
       "max                12.006623   882.000000                12.000000   \n",
       "\n",
       "       Total bounces past12months  \n",
       "count                 8995.000000  \n",
       "mean                     1.162757  \n",
       "std                      2.352798  \n",
       "min                      0.000000  \n",
       "25%                      0.000000  \n",
       "50%                      0.000000  \n",
       "75%                      1.000000  \n",
       "max                     12.000000  "
      ]
     },
     "execution_count": 11,
     "metadata": {},
     "output_type": "execute_result"
    }
   ],
   "source": [
    "df.describe()"
   ]
  },
  {
   "cell_type": "markdown",
   "id": "89c26efe",
   "metadata": {},
   "source": [
    "# Display scatter plot wbetween age & Total Work Experience"
   ]
  },
  {
   "cell_type": "code",
   "execution_count": 12,
   "id": "5e774f78",
   "metadata": {},
   "outputs": [
    {
     "data": {
      "text/plain": [
       "<matplotlib.collections.PathCollection at 0x20b9bae21c0>"
      ]
     },
     "execution_count": 12,
     "metadata": {},
     "output_type": "execute_result"
    },
    {
     "data": {
      "image/png": "[encoded data removed]",
      "text/plain": [
       "<Figure size 432x288 with 1 Axes>"
      ]
     },
     "metadata": {
      "needs_background": "light"
     },
     "output_type": "display_data"
    }
   ],
   "source": [
    "plt.scatter(df['Age'],df['Total Work Experience'])"
   ]
  },
  {
   "cell_type": "markdown",
   "id": "d1ba2160",
   "metadata": {},
   "source": [
    "# Display box plot for age"
   ]
  },
  {
   "cell_type": "code",
   "execution_count": 13,
   "id": "ab2298a3",
   "metadata": {},
   "outputs": [
    {
     "data": {
      "text/plain": [
       "{'whiskers': [<matplotlib.lines.Line2D at 0x20b9b902ca0>,\n",
       "  <matplotlib.lines.Line2D at 0x20b9b902f70>],\n",
       " 'caps': [<matplotlib.lines.Line2D at 0x20b9b91b340>,\n",
       "  <matplotlib.lines.Line2D at 0x20b9b91b550>],\n",
       " 'boxes': [<matplotlib.lines.Line2D at 0x20b9b9029d0>],\n",
       " 'medians': [<matplotlib.lines.Line2D at 0x20b9b91b820>],\n",
       " 'fliers': [<matplotlib.lines.Line2D at 0x20b9b91baf0>],\n",
       " 'means': []}"
      ]
     },
     "execution_count": 13,
     "metadata": {},
     "output_type": "execute_result"
    },
    {
     "data": {
      "image/png": "[encoded data removed]",
      "text/plain": [
       "<Figure size 432x288 with 1 Axes>"
      ]
     },
     "metadata": {
      "needs_background": "light"
     },
     "output_type": "display_data"
    }
   ],
   "source": [
    "plt.boxplot(df['Age'])"
   ]
  },
  {
   "cell_type": "markdown",
   "id": "a03b4f22",
   "metadata": {},
   "source": [
    "# Display box plot for Cibil score"
   ]
  },
  {
   "cell_type": "code",
   "execution_count": 14,
   "id": "c1d67b9e",
   "metadata": {},
   "outputs": [
    {
     "data": {
      "text/plain": [
       "{'whiskers': [<matplotlib.lines.Line2D at 0x20b9bab8820>,\n",
       "  <matplotlib.lines.Line2D at 0x20b9bab8af0>],\n",
       " 'caps': [<matplotlib.lines.Line2D at 0x20b9bab8dc0>,\n",
       "  <matplotlib.lines.Line2D at 0x20b9ba950d0>],\n",
       " 'boxes': [<matplotlib.lines.Line2D at 0x20b9baa4370>],\n",
       " 'medians': [<matplotlib.lines.Line2D at 0x20b9ba953a0>],\n",
       " 'fliers': [<matplotlib.lines.Line2D at 0x20b9ba95670>],\n",
       " 'means': []}"
      ]
     },
     "execution_count": 14,
     "metadata": {},
     "output_type": "execute_result"
    },
    {
     "data": {
      "image/png": "[encoded data removed]",
      "text/plain": [
       "<Figure size 432x288 with 1 Axes>"
      ]
     },
     "metadata": {
      "needs_background": "light"
     },
     "output_type": "display_data"
    }
   ],
   "source": [
    "plt.boxplot(df['Cibil score'])"
   ]
  },
  {
   "cell_type": "markdown",
   "id": "76e43e7f",
   "metadata": {},
   "source": [
    "# Create target and feature data"
   ]
  },
  {
   "cell_type": "code",
   "execution_count": 15,
   "id": "a8b39c70",
   "metadata": {},
   "outputs": [],
   "source": [
    "X = df.drop('Total bounces past12months',axis=1)\n",
    "y = df['Total bounces past12months']"
   ]
  },
  {
   "cell_type": "code",
   "execution_count": 16,
   "id": "720f2f07",
   "metadata": {},
   "outputs": [
    {
     "data": {
      "text/html": [
       "<div>\n",
       "<style scoped>\n",
       "    .dataframe tbody tr th:only-of-type {\n",
       "        vertical-align: middle;\n",
       "    }\n",
       "\n",
       "    .dataframe tbody tr th {\n",
       "        vertical-align: top;\n",
       "    }\n",
       "\n",
       "    .dataframe thead th {\n",
       "        text-align: right;\n",
       "    }\n",
       "</style>\n",
       "<table border=\"1\" class=\"dataframe\">\n",
       "  <thead>\n",
       "    <tr style=\"text-align: right;\">\n",
       "      <th></th>\n",
       "      <th>Age</th>\n",
       "      <th>Total Work Experience</th>\n",
       "      <th>Number of years in city</th>\n",
       "      <th>Cost to Request Ratio</th>\n",
       "      <th>Cibil score</th>\n",
       "      <th>Overdrafts past12months</th>\n",
       "    </tr>\n",
       "  </thead>\n",
       "  <tbody>\n",
       "    <tr>\n",
       "      <th>0</th>\n",
       "      <td>40.50</td>\n",
       "      <td>2</td>\n",
       "      <td>6</td>\n",
       "      <td>0.842666</td>\n",
       "      <td>594</td>\n",
       "      <td>0</td>\n",
       "    </tr>\n",
       "    <tr>\n",
       "      <th>1</th>\n",
       "      <td>41.25</td>\n",
       "      <td>5</td>\n",
       "      <td>2</td>\n",
       "      <td>0.791667</td>\n",
       "      <td>754</td>\n",
       "      <td>0</td>\n",
       "    </tr>\n",
       "    <tr>\n",
       "      <th>2</th>\n",
       "      <td>39.50</td>\n",
       "      <td>5</td>\n",
       "      <td>2</td>\n",
       "      <td>0.727273</td>\n",
       "      <td>779</td>\n",
       "      <td>0</td>\n",
       "    </tr>\n",
       "    <tr>\n",
       "      <th>3</th>\n",
       "      <td>35.00</td>\n",
       "      <td>1</td>\n",
       "      <td>4</td>\n",
       "      <td>0.820232</td>\n",
       "      <td>818</td>\n",
       "      <td>0</td>\n",
       "    </tr>\n",
       "    <tr>\n",
       "      <th>4</th>\n",
       "      <td>34.00</td>\n",
       "      <td>3</td>\n",
       "      <td>3</td>\n",
       "      <td>0.455581</td>\n",
       "      <td>853</td>\n",
       "      <td>0</td>\n",
       "    </tr>\n",
       "    <tr>\n",
       "      <th>...</th>\n",
       "      <td>...</td>\n",
       "      <td>...</td>\n",
       "      <td>...</td>\n",
       "      <td>...</td>\n",
       "      <td>...</td>\n",
       "      <td>...</td>\n",
       "    </tr>\n",
       "    <tr>\n",
       "      <th>8990</th>\n",
       "      <td>30.80</td>\n",
       "      <td>3</td>\n",
       "      <td>3</td>\n",
       "      <td>0.596748</td>\n",
       "      <td>763</td>\n",
       "      <td>0</td>\n",
       "    </tr>\n",
       "    <tr>\n",
       "      <th>8991</th>\n",
       "      <td>31.83</td>\n",
       "      <td>3</td>\n",
       "      <td>6</td>\n",
       "      <td>0.986793</td>\n",
       "      <td>532</td>\n",
       "      <td>0</td>\n",
       "    </tr>\n",
       "    <tr>\n",
       "      <th>8992</th>\n",
       "      <td>32.67</td>\n",
       "      <td>2</td>\n",
       "      <td>5</td>\n",
       "      <td>0.628330</td>\n",
       "      <td>590</td>\n",
       "      <td>0</td>\n",
       "    </tr>\n",
       "    <tr>\n",
       "      <th>8993</th>\n",
       "      <td>37.00</td>\n",
       "      <td>3</td>\n",
       "      <td>3</td>\n",
       "      <td>0.797193</td>\n",
       "      <td>812</td>\n",
       "      <td>0</td>\n",
       "    </tr>\n",
       "    <tr>\n",
       "      <th>8994</th>\n",
       "      <td>32.08</td>\n",
       "      <td>1</td>\n",
       "      <td>6</td>\n",
       "      <td>0.287659</td>\n",
       "      <td>817</td>\n",
       "      <td>0</td>\n",
       "    </tr>\n",
       "  </tbody>\n",
       "</table>\n",
       "<p>8995 rows × 6 columns</p>\n",
       "</div>"
      ],
      "text/plain": [
       "        Age  Total Work Experience  Number of years in city  \\\n",
       "0     40.50                      2                        6   \n",
       "1     41.25                      5                        2   \n",
       "2     39.50                      5                        2   \n",
       "3     35.00                      1                        4   \n",
       "4     34.00                      3                        3   \n",
       "...     ...                    ...                      ...   \n",
       "8990  30.80                      3                        3   \n",
       "8991  31.83                      3                        6   \n",
       "8992  32.67                      2                        5   \n",
       "8993  37.00                      3                        3   \n",
       "8994  32.08                      1                        6   \n",
       "\n",
       "      Cost to Request Ratio  Cibil score  Overdrafts past12months  \n",
       "0                  0.842666          594                        0  \n",
       "1                  0.791667          754                        0  \n",
       "2                  0.727273          779                        0  \n",
       "3                  0.820232          818                        0  \n",
       "4                  0.455581          853                        0  \n",
       "...                     ...          ...                      ...  \n",
       "8990               0.596748          763                        0  \n",
       "8991               0.986793          532                        0  \n",
       "8992               0.628330          590                        0  \n",
       "8993               0.797193          812                        0  \n",
       "8994               0.287659          817                        0  \n",
       "\n",
       "[8995 rows x 6 columns]"
      ]
     },
     "execution_count": 16,
     "metadata": {},
     "output_type": "execute_result"
    }
   ],
   "source": [
    "X"
   ]
  },
  {
   "cell_type": "code",
   "execution_count": 17,
   "id": "f1b82c12",
   "metadata": {},
   "outputs": [
    {
     "data": {
      "text/plain": [
       "0       0\n",
       "1       0\n",
       "2       0\n",
       "3       0\n",
       "4       1\n",
       "       ..\n",
       "8990    0\n",
       "8991    0\n",
       "8992    0\n",
       "8993    0\n",
       "8994    0\n",
       "Name: Total bounces past12months, Length: 8995, dtype: int64"
      ]
     },
     "execution_count": 17,
     "metadata": {},
     "output_type": "execute_result"
    }
   ],
   "source": [
    "y"
   ]
  },
  {
   "cell_type": "markdown",
   "id": "bf482c96",
   "metadata": {},
   "source": [
    "# working with model"
   ]
  },
  {
   "cell_type": "markdown",
   "id": "98f9f56c",
   "metadata": {},
   "source": [
    "# 1. split data into training and testing"
   ]
  },
  {
   "cell_type": "code",
   "execution_count": 18,
   "id": "5e311e7f",
   "metadata": {},
   "outputs": [],
   "source": [
    "X_train,X_test,y_train,y_test = train_test_split(X,y,test_size=0.2)"
   ]
  },
  {
   "cell_type": "code",
   "execution_count": 19,
   "id": "50881031",
   "metadata": {},
   "outputs": [],
   "source": [
    "from sklearn.neighbors import KNeighborsClassifier"
   ]
  },
  {
   "cell_type": "markdown",
   "id": "445f48cd",
   "metadata": {},
   "source": [
    "# 2. Create Knn classfier"
   ]
  },
  {
   "cell_type": "code",
   "execution_count": 20,
   "id": "50706fe4",
   "metadata": {},
   "outputs": [
    {
     "data": {
      "text/plain": [
       "KNeighborsClassifier()"
      ]
     },
     "execution_count": 20,
     "metadata": {},
     "output_type": "execute_result"
    }
   ],
   "source": [
    "clf = KNeighborsClassifier()\n",
    "clf.fit(X_train,y_train)"
   ]
  },
  {
   "cell_type": "markdown",
   "id": "c8882cef",
   "metadata": {},
   "source": [
    "# 3. Testing Score"
   ]
  },
  {
   "cell_type": "code",
   "execution_count": 21,
   "id": "d360d299",
   "metadata": {},
   "outputs": [
    {
     "data": {
      "text/plain": [
       "0.642023346303502"
      ]
     },
     "execution_count": 21,
     "metadata": {},
     "output_type": "execute_result"
    }
   ],
   "source": [
    "clf.score(X_test,y_test)"
   ]
  },
  {
   "cell_type": "markdown",
   "id": "752a6a9f",
   "metadata": {},
   "source": [
    "# 4. Training Score"
   ]
  },
  {
   "cell_type": "code",
   "execution_count": 22,
   "id": "a2e71e6a",
   "metadata": {},
   "outputs": [
    {
     "data": {
      "text/plain": [
       "0.6770428015564203"
      ]
     },
     "execution_count": 22,
     "metadata": {},
     "output_type": "execute_result"
    }
   ],
   "source": [
    "clf.score(X_train,y_train)"
   ]
  },
  {
   "cell_type": "code",
   "execution_count": 23,
   "id": "97103f56",
   "metadata": {},
   "outputs": [],
   "source": [
    "y_pred = clf.predict(X_test)"
   ]
  },
  {
   "cell_type": "code",
   "execution_count": 24,
   "id": "95e282c3",
   "metadata": {},
   "outputs": [],
   "source": [
    "from sklearn.metrics import accuracy_score"
   ]
  },
  {
   "cell_type": "markdown",
   "id": "b2a94efd",
   "metadata": {},
   "source": [
    "# Accuracy Score"
   ]
  },
  {
   "cell_type": "code",
   "execution_count": 25,
   "id": "18439d07",
   "metadata": {},
   "outputs": [
    {
     "data": {
      "text/plain": [
       "0.642023346303502"
      ]
     },
     "execution_count": 25,
     "metadata": {},
     "output_type": "execute_result"
    }
   ],
   "source": [
    "accuracy_score(y_test,y_pred)"
   ]
  },
  {
   "cell_type": "markdown",
   "id": "2770f91d",
   "metadata": {},
   "source": [
    "# Try 1 to 14 k values for classifier"
   ]
  },
  {
   "cell_type": "code",
   "execution_count": 26,
   "id": "2883db1e",
   "metadata": {},
   "outputs": [],
   "source": [
    "from sklearn.neighbors import KNeighborsClassifier\n",
    "\n",
    "test_scores = []\n",
    "train_scores = []\n",
    "\n",
    "for i in range(1,15):\n",
    "\n",
    "    model = KNeighborsClassifier(i)\n",
    "    model.fit(X_train,y_train)\n",
    "    \n",
    "    train_scores.append(model.score(X_train,y_train))\n",
    "    test_scores.append(model.score(X_test,y_test))"
   ]
  },
  {
   "cell_type": "markdown",
   "id": "5d562aa4",
   "metadata": {},
   "source": [
    "# Display training and testing score for that 1 to 14 k values"
   ]
  },
  {
   "cell_type": "code",
   "execution_count": 27,
   "id": "024d9046",
   "metadata": {},
   "outputs": [
    {
     "name": "stderr",
     "output_type": "stream",
     "text": [
      "C:\\ProgramData\\Anaconda3\\lib\\site-packages\\seaborn\\_decorators.py:36: FutureWarning: Pass the following variables as keyword args: x, y. From version 0.12, the only valid positional argument will be `data`, and passing other arguments without an explicit keyword will result in an error or misinterpretation.\n",
      "  warnings.warn(\n",
      "C:\\ProgramData\\Anaconda3\\lib\\site-packages\\seaborn\\_decorators.py:36: FutureWarning: Pass the following variables as keyword args: x, y. From version 0.12, the only valid positional argument will be `data`, and passing other arguments without an explicit keyword will result in an error or misinterpretation.\n",
      "  warnings.warn(\n"
     ]
    },
    {
     "data": {
      "image/png": "[encoded data removed]",
      "text/plain": [
       "<Figure size 864x360 with 1 Axes>"
      ]
     },
     "metadata": {
      "needs_background": "light"
     },
     "output_type": "display_data"
    }
   ],
   "source": [
    "import seaborn as sns\n",
    "plt.figure(figsize=(12,5))\n",
    "p = sns.lineplot(range(1,15),train_scores,marker='*',label='Train Score')\n",
    "p = sns.lineplot(range(1,15),test_scores,marker='o',label='Test Score')"
   ]
  },
  {
   "cell_type": "code",
   "execution_count": null,
   "id": "2ca7a014",
   "metadata": {},
   "outputs": [],
   "source": []
  }
 ],
 "metadata": {
  "kernelspec": {
   "display_name": "Python 3 (ipykernel)",
   "language": "python",
   "name": "python3"
  },
  "language_info": {
   "codemirror_mode": {
    "name": "ipython",
    "version": 3
   },
   "file_extension": ".py",
   "mimetype": "text/x-python",
   "name": "python",
   "nbconvert_exporter": "python",
   "pygments_lexer": "ipython3",
   "version": "3.9.12"
  }
 },
 "nbformat": 4,
 "nbformat_minor": 5
}
